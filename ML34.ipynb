{
 "cells": [
  {
   "cell_type": "code",
   "execution_count": 6,
   "metadata": {},
   "outputs": [],
   "source": [
    "import numpy as np\n",
    "import pandas as pd\n",
    "import matplotlib.pyplot as plt\n",
    "import seaborn as sns"
   ]
  },
  {
   "cell_type": "code",
   "execution_count": 7,
   "metadata": {},
   "outputs": [
    {
     "data": {
      "text/plain": [
       "(    Age  Years of Experience    Salary\n",
       " 0  32.0                  5.0   90000.0\n",
       " 1  28.0                  3.0   65000.0\n",
       " 2  45.0                 15.0  150000.0\n",
       " 3  36.0                  7.0   60000.0\n",
       " 4  52.0                 20.0  200000.0,\n",
       " Age                    0\n",
       " Years of Experience    0\n",
       " Salary                 0\n",
       " dtype: int64,\n",
       "                Age  Years of Experience         Salary\n",
       " count  6704.000000          6704.000000    6704.000000\n",
       " mean     33.620859             8.094687  115326.964771\n",
       " std       7.613497             6.057647   52766.492716\n",
       " min      21.000000             0.000000     350.000000\n",
       " 25%      28.000000             3.000000   70000.000000\n",
       " 50%      32.000000             7.000000  115000.000000\n",
       " 75%      38.000000            12.000000  160000.000000\n",
       " max      62.000000            34.000000  250000.000000)"
      ]
     },
     "execution_count": 7,
     "metadata": {},
     "output_type": "execute_result"
    }
   ],
   "source": [
    "df=pd.read_csv(r\"C:\\\\Users\\\\USER\\\\Downloads\\\\Desktop\\\\ML\\\\Machine Learning\\\\dataset\\\\Salary_Data.csv\")\n",
    "#droping Gender\tEducation Level\tJob Title\n",
    "df.drop(['Gender','Education Level','Job Title'],axis=1,inplace=True)\n",
    "df.fillna(df.mean(),inplace=True)\n",
    "df.head(),df.isnull().sum(),df.describe()"
   ]
  },
  {
   "cell_type": "code",
   "execution_count": 8,
   "metadata": {},
   "outputs": [],
   "source": [
    "x=df.drop('Salary',axis=1)\n",
    "y=df['Salary']\n",
    "from sklearn.model_selection import train_test_split\n",
    "x_train,x_test,y_train,y_test=train_test_split(x,y,test_size=0.2,random_state=12)"
   ]
  },
  {
   "cell_type": "code",
   "execution_count": 9,
   "metadata": {},
   "outputs": [
    {
     "data": {
      "text/plain": [
       "0.7924692685475714"
      ]
     },
     "execution_count": 9,
     "metadata": {},
     "output_type": "execute_result"
    }
   ],
   "source": [
    "from sklearn.neighbors import KNeighborsRegressor\n",
    "knn=KNeighborsRegressor()\n",
    "knn.fit(x_train,y_train)\n",
    "knn.score(x_test,y_test)"
   ]
  },
  {
   "cell_type": "code",
   "execution_count": 10,
   "metadata": {},
   "outputs": [
    {
     "data": {
      "text/plain": [
       "0.8135784180998151"
      ]
     },
     "execution_count": 10,
     "metadata": {},
     "output_type": "execute_result"
    }
   ],
   "source": [
    "knn.score(x_train,y_train)"
   ]
  },
  {
   "cell_type": "code",
   "execution_count": 11,
   "metadata": {},
   "outputs": [
    {
     "name": "stdout",
     "output_type": "stream",
     "text": [
      "1 0.6957847279173768 0.7279584540029491\n",
      "2 0.7536679760931151 0.7665067189068167\n",
      "3 0.761176599958459 0.7765401389006167\n",
      "4 0.7872450258917457 0.8043784707643401\n",
      "5 0.7924692685475714 0.8135784180998151\n",
      "6 0.789122805487043 0.8161661711517497\n",
      "7 0.7985919418031882 0.8243131666429145\n",
      "8 0.800012965507611 0.8246184266950648\n",
      "9 0.8076597597322879 0.8300450128317499\n",
      "10 0.8099494132905009 0.8309295668521113\n",
      "11 0.8148445566233212 0.8346588625436312\n",
      "12 0.8160621367312578 0.8364561385859728\n",
      "13 0.8170560224505559 0.83614440392672\n",
      "14 0.8179646037281239 0.8388403670906247\n",
      "15 0.817666498083593 0.839499238196773\n",
      "16 0.8179166432768206 0.8391223689809544\n",
      "17 0.8179676069223931 0.8385783967528672\n",
      "18 0.8208932570700875 0.8393590352491191\n",
      "19 0.8216902719130736 0.840010874039926\n"
     ]
    }
   ],
   "source": [
    "for i in range(1,20):\n",
    "    knn=KNeighborsRegressor(n_neighbors=i)\n",
    "    knn.fit(x_train,y_train)\n",
    "    print(i,knn.score(x_test,y_test),knn.score(x_train,y_train)) \n",
    "    "
   ]
  },
  {
   "cell_type": "code",
   "execution_count": null,
   "metadata": {},
   "outputs": [],
   "source": [
    "\n",
    "\n"
   ]
  }
 ],
 "metadata": {
  "kernelspec": {
   "display_name": "Python 3",
   "language": "python",
   "name": "python3"
  },
  "language_info": {
   "codemirror_mode": {
    "name": "ipython",
    "version": 3
   },
   "file_extension": ".py",
   "mimetype": "text/x-python",
   "name": "python",
   "nbconvert_exporter": "python",
   "pygments_lexer": "ipython3",
   "version": "3.12.4"
  }
 },
 "nbformat": 4,
 "nbformat_minor": 2
}
