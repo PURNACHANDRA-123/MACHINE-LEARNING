{
 "cells": [
  {
   "cell_type": "code",
   "execution_count": null,
   "metadata": {},
   "outputs": [],
   "source": [
    "import pandas as pd\n",
    "import numpy as np\n",
    "import matplotlib.pyplot as plt\n",
    "import seaborn as sns\n",
    "#test and train"
   ]
  },
  {
   "cell_type": "code",
   "execution_count": 8,
   "metadata": {},
   "outputs": [],
   "source": [
    "from sklearn.preprocessing import StandardScaler\n",
    "from sklearn.model_selection import train_test_split\n"
   ]
  },
  {
   "cell_type": "code",
   "execution_count": 7,
   "metadata": {},
   "outputs": [
    {
     "data": {
      "text/html": [
       "<div>\n",
       "<style scoped>\n",
       "    .dataframe tbody tr th:only-of-type {\n",
       "        vertical-align: middle;\n",
       "    }\n",
       "\n",
       "    .dataframe tbody tr th {\n",
       "        vertical-align: top;\n",
       "    }\n",
       "\n",
       "    .dataframe thead th {\n",
       "        text-align: right;\n",
       "    }\n",
       "</style>\n",
       "<table border=\"1\" class=\"dataframe\">\n",
       "  <thead>\n",
       "    <tr style=\"text-align: right;\">\n",
       "      <th></th>\n",
       "      <th>Home</th>\n",
       "      <th>Price</th>\n",
       "      <th>SqFt</th>\n",
       "      <th>Bedrooms</th>\n",
       "      <th>Bathrooms</th>\n",
       "      <th>Offers</th>\n",
       "      <th>Brick</th>\n",
       "      <th>Neighborhood</th>\n",
       "    </tr>\n",
       "  </thead>\n",
       "  <tbody>\n",
       "    <tr>\n",
       "      <th>0</th>\n",
       "      <td>1</td>\n",
       "      <td>114300</td>\n",
       "      <td>1790</td>\n",
       "      <td>2</td>\n",
       "      <td>2</td>\n",
       "      <td>2</td>\n",
       "      <td>No</td>\n",
       "      <td>East</td>\n",
       "    </tr>\n",
       "    <tr>\n",
       "      <th>1</th>\n",
       "      <td>2</td>\n",
       "      <td>114200</td>\n",
       "      <td>2030</td>\n",
       "      <td>4</td>\n",
       "      <td>2</td>\n",
       "      <td>3</td>\n",
       "      <td>No</td>\n",
       "      <td>East</td>\n",
       "    </tr>\n",
       "    <tr>\n",
       "      <th>2</th>\n",
       "      <td>3</td>\n",
       "      <td>114800</td>\n",
       "      <td>1740</td>\n",
       "      <td>3</td>\n",
       "      <td>2</td>\n",
       "      <td>1</td>\n",
       "      <td>No</td>\n",
       "      <td>East</td>\n",
       "    </tr>\n",
       "    <tr>\n",
       "      <th>3</th>\n",
       "      <td>4</td>\n",
       "      <td>94700</td>\n",
       "      <td>1980</td>\n",
       "      <td>3</td>\n",
       "      <td>2</td>\n",
       "      <td>3</td>\n",
       "      <td>No</td>\n",
       "      <td>East</td>\n",
       "    </tr>\n",
       "    <tr>\n",
       "      <th>4</th>\n",
       "      <td>5</td>\n",
       "      <td>119800</td>\n",
       "      <td>2130</td>\n",
       "      <td>3</td>\n",
       "      <td>3</td>\n",
       "      <td>3</td>\n",
       "      <td>No</td>\n",
       "      <td>East</td>\n",
       "    </tr>\n",
       "  </tbody>\n",
       "</table>\n",
       "</div>"
      ],
      "text/plain": [
       "   Home   Price  SqFt  Bedrooms  Bathrooms  Offers Brick Neighborhood\n",
       "0     1  114300  1790         2          2       2    No         East\n",
       "1     2  114200  2030         4          2       3    No         East\n",
       "2     3  114800  1740         3          2       1    No         East\n",
       "3     4   94700  1980         3          2       3    No         East\n",
       "4     5  119800  2130         3          3       3    No         East"
      ]
     },
     "execution_count": 7,
     "metadata": {},
     "output_type": "execute_result"
    }
   ],
   "source": [
    "df=pd.read_csv(r\"C:\\\\Users\\\\USER\\\\Downloads\\\\Desktop\\\\ML\\\\dataset\\\\house-prices.csv\")\n",
    "df.head()"
   ]
  },
  {
   "cell_type": "code",
   "execution_count": 4,
   "metadata": {},
   "outputs": [],
   "source": [
    "df = df[['Home', 'SqFt', 'Bedrooms', 'Bathrooms', 'Offers', 'Brick', 'Neighborhood'] + ['Price']]"
   ]
  },
  {
   "cell_type": "code",
   "execution_count": 6,
   "metadata": {},
   "outputs": [
    {
     "data": {
      "text/html": [
       "<div>\n",
       "<style scoped>\n",
       "    .dataframe tbody tr th:only-of-type {\n",
       "        vertical-align: middle;\n",
       "    }\n",
       "\n",
       "    .dataframe tbody tr th {\n",
       "        vertical-align: top;\n",
       "    }\n",
       "\n",
       "    .dataframe thead th {\n",
       "        text-align: right;\n",
       "    }\n",
       "</style>\n",
       "<table border=\"1\" class=\"dataframe\">\n",
       "  <thead>\n",
       "    <tr style=\"text-align: right;\">\n",
       "      <th></th>\n",
       "      <th>Home</th>\n",
       "      <th>SqFt</th>\n",
       "      <th>Bedrooms</th>\n",
       "      <th>Bathrooms</th>\n",
       "      <th>Offers</th>\n",
       "      <th>Brick</th>\n",
       "      <th>Neighborhood</th>\n",
       "      <th>Price</th>\n",
       "    </tr>\n",
       "  </thead>\n",
       "  <tbody>\n",
       "    <tr>\n",
       "      <th>0</th>\n",
       "      <td>1</td>\n",
       "      <td>1790</td>\n",
       "      <td>2</td>\n",
       "      <td>2</td>\n",
       "      <td>2</td>\n",
       "      <td>No</td>\n",
       "      <td>East</td>\n",
       "      <td>114300</td>\n",
       "    </tr>\n",
       "    <tr>\n",
       "      <th>1</th>\n",
       "      <td>2</td>\n",
       "      <td>2030</td>\n",
       "      <td>4</td>\n",
       "      <td>2</td>\n",
       "      <td>3</td>\n",
       "      <td>No</td>\n",
       "      <td>East</td>\n",
       "      <td>114200</td>\n",
       "    </tr>\n",
       "    <tr>\n",
       "      <th>2</th>\n",
       "      <td>3</td>\n",
       "      <td>1740</td>\n",
       "      <td>3</td>\n",
       "      <td>2</td>\n",
       "      <td>1</td>\n",
       "      <td>No</td>\n",
       "      <td>East</td>\n",
       "      <td>114800</td>\n",
       "    </tr>\n",
       "    <tr>\n",
       "      <th>3</th>\n",
       "      <td>4</td>\n",
       "      <td>1980</td>\n",
       "      <td>3</td>\n",
       "      <td>2</td>\n",
       "      <td>3</td>\n",
       "      <td>No</td>\n",
       "      <td>East</td>\n",
       "      <td>94700</td>\n",
       "    </tr>\n",
       "    <tr>\n",
       "      <th>4</th>\n",
       "      <td>5</td>\n",
       "      <td>2130</td>\n",
       "      <td>3</td>\n",
       "      <td>3</td>\n",
       "      <td>3</td>\n",
       "      <td>No</td>\n",
       "      <td>East</td>\n",
       "      <td>119800</td>\n",
       "    </tr>\n",
       "  </tbody>\n",
       "</table>\n",
       "</div>"
      ],
      "text/plain": [
       "   Home  SqFt  Bedrooms  Bathrooms  Offers Brick Neighborhood   Price\n",
       "0     1  1790         2          2       2    No         East  114300\n",
       "1     2  2030         4          2       3    No         East  114200\n",
       "2     3  1740         3          2       1    No         East  114800\n",
       "3     4  1980         3          2       3    No         East   94700\n",
       "4     5  2130         3          3       3    No         East  119800"
      ]
     },
     "execution_count": 6,
     "metadata": {},
     "output_type": "execute_result"
    }
   ],
   "source": [
    "df.head()"
   ]
  },
  {
   "cell_type": "code",
   "execution_count": 14,
   "metadata": {},
   "outputs": [],
   "source": [
    "from sklearn.preprocessing import LabelEncoder\n",
    "\n",
    "# Separate numerical and categorical columns\n",
    "numerical_cols = ['SqFt', 'Bedrooms', 'Bathrooms', 'Offers', 'Price']\n",
    "categorical_cols = ['Home', 'Brick', 'Neighborhood']\n",
    "\n",
    "# Convert categorical columns to numerical values using LabelEncoder\n",
    "le = LabelEncoder()\n",
    "for col in categorical_cols:\n",
    "    df[col] = le.fit_transform(df[col])\n",
    "\n",
    "# Scale the numerical columns using StandardScaler\n",
    "scaler = StandardScaler()\n",
    "df[numerical_cols] = scaler.fit_transform(df[numerical_cols])\n",
    "\n",
    "# Create the correlation matrix\n",
    "\n"
   ]
  },
  {
   "cell_type": "code",
   "execution_count": 17,
   "metadata": {},
   "outputs": [
    {
     "data": {
      "text/plain": [
       "<Axes: >"
      ]
     },
     "execution_count": 17,
     "metadata": {},
     "output_type": "execute_result"
    },
    {
     "data": {
      "image/png": "[encoded data removed]",
      "text/plain": [
       "<Figure size 1000x800 with 2 Axes>"
      ]
     },
     "metadata": {},
     "output_type": "display_data"
    }
   ],
   "source": [
    "plt.figure(figsize=(10, 8))\n",
    "sns.heatmap(data=df.corr(), annot=True, cmap='coolwarm')\n"
   ]
  },
  {
   "cell_type": "code",
   "execution_count": null,
   "metadata": {},
   "outputs": [],
   "source": [
    "x=df.iloc[:,:-1]\n",
    "y=df[\"Price\"]"
   ]
  },
  {
   "cell_type": "code",
   "execution_count": 26,
   "metadata": {},
   "outputs": [
    {
     "data": {
      "text/plain": [
       "array([[-1.71857161, -0.6025848 , -1.00091648, -1.41532739, -0.86893879,\n",
       "        -0.54276944, -0.69883624],\n",
       "       [-1.69150749, -0.60632122,  0.13790405,  1.35050324, -0.86893879,\n",
       "         0.396075  , -0.69883624],\n",
       "       [-1.66444337, -0.58390272, -1.23817076, -0.03241208, -0.86893879,\n",
       "        -1.48161388, -0.69883624],\n",
       "       [-1.63737925, -1.33492252, -0.09935023, -0.03241208, -0.86893879,\n",
       "         0.396075  , -0.69883624],\n",
       "       [-1.61031513, -0.39708187,  0.6124126 , -0.03241208,  1.08236235,\n",
       "         0.396075  , -0.69883624],\n",
       "       [-1.58325101, -0.59137555, -1.04836734, -0.03241208, -0.86893879,\n",
       "        -0.54276944, -0.69883624],\n",
       "       [-1.55618689,  0.79109872, -0.81111306, -0.03241208,  1.08236235,\n",
       "         0.396075  ,  1.4309504 ],\n",
       "       [-1.52912277,  0.75747096,  0.75476517,  1.35050324, -0.86893879,\n",
       "        -0.54276944, -0.69883624],\n",
       "       [-1.50205865, -0.41950037,  0.51751089,  1.35050324, -0.86893879,\n",
       "         0.396075  , -0.69883624],\n",
       "       [-1.47499453, -0.98743575, -1.28562162, -0.03241208,  1.08236235,\n",
       "         0.396075  , -0.69883624],\n",
       "       [-1.44793041,  0.07744308,  0.13790405, -0.03241208, -0.86893879,\n",
       "         0.396075  ,  1.4309504 ],\n",
       "       [-1.42086629, -0.27751653, -0.62130964, -1.41532739, -0.86893879,\n",
       "        -0.54276944,  1.4309504 ],\n",
       "       [-1.39380217, -1.03974559, -0.43150622, -0.03241208, -0.86893879,\n",
       "         1.33491944, -0.69883624],\n",
       "       [-1.36673805, -0.15421477,  0.70731432, -0.03241208,  1.08236235,\n",
       "         2.27376387,  1.4309504 ],\n",
       "       [-1.33967393,  1.73267578,  2.79515196,  1.35050324,  1.08236235,\n",
       "         1.33491944, -0.69883624],\n",
       "       [-1.31260981,  0.57438653, -1.04836734,  1.35050324, -0.86893879,\n",
       "        -1.48161388, -0.69883624],\n",
       "       [-1.28554569,  0.62295995,  0.89711774, -0.03241208,  1.08236235,\n",
       "         1.33491944,  1.4309504 ],\n",
       "       [-1.25848157, -1.74966481, -0.05189937, -0.03241208,  1.08236235,\n",
       "         1.33491944, -0.69883624],\n",
       "       [-1.23141745, -0.7109409 , -1.42797418, -1.41532739, -0.86893879,\n",
       "        -1.48161388,  1.4309504 ],\n",
       "       [-1.20435333,  1.37397976, -0.38405536, -0.03241208,  1.08236235,\n",
       "        -0.54276944,  1.4309504 ],\n",
       "       [-1.17728921, -0.53159288, -1.00091648, -0.03241208, -0.86893879,\n",
       "         0.396075  , -0.69883624],\n",
       "       [-1.15022509, -0.62126689, -0.00444852, -0.03241208, -0.86893879,\n",
       "         1.33491944, -0.69883624],\n",
       "       [-1.12316097, -1.44701503, -1.47542504, -0.03241208, -0.86893879,\n",
       "         0.396075  , -0.69883624],\n",
       "       [-1.09609685, -0.90897099, -0.85856392, -0.03241208, -0.86893879,\n",
       "         0.396075  ,  1.4309504 ],\n",
       "       [-1.06903273,  0.97044673,  0.99201945,  1.35050324,  1.08236235,\n",
       "        -0.54276944,  1.4309504 ],\n",
       "       [-1.04196861,  0.70516113,  1.37162629,  1.35050324,  1.08236235,\n",
       "         0.396075  , -0.69883624],\n",
       "       [-1.01490449,  0.24558184, -0.00444852,  1.35050324, -0.86893879,\n",
       "         0.396075  , -0.69883624],\n",
       "       [-0.98784037, -1.16304735, -1.42797418, -0.03241208, -0.86893879,\n",
       "        -0.54276944, -0.69883624],\n",
       "       [-0.96077625, -2.29144526, -1.90248274, -1.41532739, -0.86893879,\n",
       "         0.396075  , -0.69883624],\n",
       "       [-0.93371213,  2.15115448,  0.1853549 ,  1.35050324,  1.08236235,\n",
       "        -1.48161388,  1.4309504 ],\n",
       "       [-0.90664801,  1.92696947,  1.18182287,  1.35050324,  1.08236235,\n",
       "         0.396075  ,  1.4309504 ],\n",
       "       [-0.87958389, -0.67731314, -0.33660451, -1.41532739, -0.86893879,\n",
       "        -0.54276944,  1.4309504 ],\n",
       "       [-0.85251977,  0.1708535 ,  1.18182287, -0.03241208,  1.08236235,\n",
       "         0.396075  ,  1.4309504 ],\n",
       "       [-0.82545565,  0.34272868,  1.32417544,  2.73341855,  1.08236235,\n",
       "         1.33491944,  1.4309504 ],\n",
       "       [-0.79839153, -0.47181021, -0.00444852, -1.41532739, -0.86893879,\n",
       "         0.396075  , -0.69883624],\n",
       "       [-0.77132741, -0.49796513,  0.37515833, -0.03241208,  1.08236235,\n",
       "         0.396075  , -0.69883624],\n",
       "       [-0.74426329, -0.48301946, -0.57385878, -1.41532739, -0.86893879,\n",
       "        -0.54276944, -0.69883624],\n",
       "       [-0.71719918,  0.61922354,  1.98848742,  1.35050324,  1.08236235,\n",
       "         1.33491944, -0.69883624],\n",
       "       [-0.69013506,  0.03260608, -1.33307247, -0.03241208, -0.86893879,\n",
       "        -1.48161388, -0.69883624],\n",
       "       [-0.66307094, -0.83050624, -1.23817076, -0.03241208, -0.86893879,\n",
       "        -0.54276944, -0.69883624],\n",
       "       [-0.63600682, -0.89028891, -2.09228616, -1.41532739, -0.86893879,\n",
       "        -1.48161388, -0.69883624],\n",
       "       [-0.6089427 ,  0.11854367, -0.76366221,  1.35050324,  1.08236235,\n",
       "        -0.54276944, -0.69883624],\n",
       "       [-0.58187858, -0.92765308, -0.05189937, -1.41532739, -0.86893879,\n",
       "         0.396075  , -0.69883624],\n",
       "       [-0.55481446,  0.88077272, -0.38405536, -0.03241208, -0.86893879,\n",
       "        -1.48161388,  1.4309504 ],\n",
       "       [-0.52775034,  1.34782484, -0.28915365, -0.03241208,  1.08236235,\n",
       "        -0.54276944,  1.4309504 ],\n",
       "       [-0.50068622, -1.01732708, -0.90601477, -0.03241208, -0.86893879,\n",
       "         0.396075  , -0.69883624],\n",
       "       [-0.4736221 , -0.02344018, -0.05189937, -1.41532739,  1.08236235,\n",
       "        -0.54276944, -0.69883624],\n",
       "       [-0.44655798, -1.49932487,  0.23280576, -0.03241208, -0.86893879,\n",
       "         3.21260831, -0.69883624],\n",
       "       [-0.41949386, -0.54280213, -0.09935023, -1.41532739, -0.86893879,\n",
       "        -0.54276944, -0.69883624],\n",
       "       [-0.39242974, -0.85666116, -1.42797418, -0.03241208, -0.86893879,\n",
       "         0.396075  ,  1.4309504 ],\n",
       "       [-0.36536562,  0.77241663,  0.47006004, -0.03241208, -0.86893879,\n",
       "         0.396075  ,  1.4309504 ],\n",
       "       [-0.3383015 , -1.46943353, -0.6687605 , -1.41532739, -0.86893879,\n",
       "         0.396075  , -0.69883624],\n",
       "       [-0.31123738, -0.48675588,  0.70731432, -1.41532739,  1.08236235,\n",
       "         1.33491944, -0.69883624],\n",
       "       [-0.28417326,  0.01392399,  0.47006004, -0.03241208, -0.86893879,\n",
       "         0.396075  , -0.69883624],\n",
       "       [-0.25710914, -1.83560239, -1.66522846, -0.03241208, -0.86893879,\n",
       "         0.396075  , -0.69883624],\n",
       "       [-0.23004502, -0.17663327, -1.33307247, -1.41532739, -0.86893879,\n",
       "        -0.54276944,  1.4309504 ],\n",
       "       [-0.2029809 ,  0.3913021 ,  0.89711774, -0.03241208, -0.86893879,\n",
       "         0.396075  ,  1.4309504 ],\n",
       "       [-0.17591678,  0.81725363,  1.13437202,  1.35050324,  1.08236235,\n",
       "         0.396075  , -0.69883624],\n",
       "       [-0.14885266,  0.28668243, -0.76366221, -0.03241208,  1.08236235,\n",
       "        -1.48161388, -0.69883624],\n",
       "       [-0.12178854,  0.93308256,  0.42260918,  1.35050324, -0.86893879,\n",
       "        -1.48161388, -0.69883624],\n",
       "       [-0.09472442,  1.88586888,  0.94456859, -0.03241208,  1.08236235,\n",
       "        -1.48161388, -0.69883624],\n",
       "       [-0.0676603 , -1.10326467, -1.85503189, -1.41532739, -0.86893879,\n",
       "        -0.54276944, -0.69883624],\n",
       "       [-0.04059618,  1.15353116,  1.0394703 ,  1.35050324,  1.08236235,\n",
       "        -0.54276944, -0.69883624],\n",
       "       [-0.01353206, -0.37092695, -0.43150622, -1.41532739,  1.08236235,\n",
       "        -0.54276944, -0.69883624],\n",
       "       [ 0.01353206, -0.00475809, -0.6687605 , -0.03241208, -0.86893879,\n",
       "        -0.54276944, -0.69883624],\n",
       "       [ 0.04059618, -0.72215015, -2.61424557, -1.41532739, -0.86893879,\n",
       "        -1.48161388,  1.4309504 ],\n",
       "       [ 0.0676603 , -0.15795119,  0.99201945, -0.03241208,  1.08236235,\n",
       "         1.33491944, -0.69883624],\n",
       "       [ 0.09472442,  0.80230797,  0.1853549 ,  1.35050324,  1.08236235,\n",
       "         0.396075  , -0.69883624],\n",
       "       [ 0.12178854, -1.37602311,  0.65986346, -0.03241208, -0.86893879,\n",
       "         1.33491944, -0.69883624],\n",
       "       [ 0.14885266,  1.31419709,  0.37515833,  1.35050324,  1.08236235,\n",
       "         0.396075  , -0.69883624],\n",
       "       [ 0.17591678,  1.35529767, -0.2417028 , -0.03241208,  1.08236235,\n",
       "         0.396075  ,  1.4309504 ],\n",
       "       [ 0.2029809 ,  1.01528373,  0.75476517,  1.35050324, -0.86893879,\n",
       "        -1.48161388, -0.69883624],\n",
       "       [ 0.23004502, -0.86413399, -1.66522846, -0.03241208, -0.86893879,\n",
       "         0.396075  , -0.69883624],\n",
       "       [ 0.25710914, -0.17663327,  0.1853549 , -0.03241208,  1.08236235,\n",
       "        -0.54276944, -0.69883624],\n",
       "       [ 0.28417326,  0.51460386,  0.65986346, -0.03241208,  1.08236235,\n",
       "         0.396075  , -0.69883624],\n",
       "       [ 0.31123738, -0.87907966, -0.47895707, -1.41532739, -0.86893879,\n",
       "        -0.54276944, -0.69883624],\n",
       "       [ 0.3383015 , -0.02344018, -0.33660451, -0.03241208, -0.86893879,\n",
       "        -0.54276944, -0.69883624],\n",
       "       [ 0.36536562,  1.72146653,  1.32417544,  1.35050324,  1.08236235,\n",
       "         0.396075  ,  1.4309504 ],\n",
       "       [ 0.39242974, -0.34103562,  0.6124126 , -0.03241208, -0.86893879,\n",
       "         0.396075  , -0.69883624],\n",
       "       [ 0.41949386,  0.49218536, -1.04836734,  1.35050324, -0.86893879,\n",
       "        -1.48161388, -0.69883624],\n",
       "       [ 0.44655798,  0.48471253,  0.89711774, -0.03241208,  1.08236235,\n",
       "         1.33491944,  1.4309504 ],\n",
       "       [ 0.4736221 ,  2.01290706,  0.65986346,  1.35050324,  1.08236235,\n",
       "        -0.54276944,  1.4309504 ],\n",
       "       [ 0.50068622,  1.28430575,  0.23280576, -1.41532739, -0.86893879,\n",
       "        -1.48161388,  1.4309504 ],\n",
       "       [ 0.52775034,  0.64537845,  1.94103656, -0.03241208,  1.08236235,\n",
       "        -0.54276944, -0.69883624],\n",
       "       [ 0.55481446, -1.49185204, -2.28208959, -1.41532739, -0.86893879,\n",
       "         0.396075  , -0.69883624],\n",
       "       [ 0.58187858,  2.16236373,  1.18182287,  1.35050324,  1.08236235,\n",
       "        -0.54276944,  1.4309504 ],\n",
       "       [ 0.6089427 , -1.03600917, -0.47895707,  1.35050324, -0.86893879,\n",
       "         1.33491944, -0.69883624],\n",
       "       [ 0.63600682,  1.57200986, -0.57385878, -0.03241208,  1.08236235,\n",
       "        -1.48161388,  1.4309504 ],\n",
       "       [ 0.66307094, -0.10190493, -0.33660451, -0.03241208,  1.08236235,\n",
       "        -0.54276944, -0.69883624],\n",
       "       [ 0.69013506, -1.2190936 ,  0.04300234, -1.41532739, -0.86893879,\n",
       "         1.33491944, -0.69883624],\n",
       "       [ 0.71719918,  0.47350328, -0.38405536,  1.35050324, -0.86893879,\n",
       "        -0.54276944, -0.69883624],\n",
       "       [ 0.74426329, -0.52038363,  0.70731432, -0.03241208, -0.86893879,\n",
       "        -0.54276944, -0.69883624],\n",
       "       [ 0.77132741,  0.45482119,  0.51751089, -0.03241208, -0.86893879,\n",
       "        -0.54276944, -0.69883624],\n",
       "       [ 0.79839153,  0.99660165,  0.37515833, -0.03241208,  1.08236235,\n",
       "        -0.54276944, -0.69883624],\n",
       "       [ 0.82545565,  1.12737624,  0.70731432,  1.35050324,  1.08236235,\n",
       "         0.396075  ,  1.4309504 ],\n",
       "       [ 0.85251977,  0.82472647, -0.14680108, -1.41532739, -0.86893879,\n",
       "        -1.48161388,  1.4309504 ],\n",
       "       [ 0.87958389,  0.10733441,  2.08338913, -0.03241208,  1.08236235,\n",
       "         0.396075  , -0.69883624],\n",
       "       [ 0.90664801, -0.13553269, -0.00444852, -1.41532739, -0.86893879,\n",
       "        -1.48161388,  1.4309504 ],\n",
       "       [ 0.93371213,  0.56317728,  0.28025662, -0.03241208, -0.86893879,\n",
       "        -1.48161388, -0.69883624],\n",
       "       [ 0.96077625,  1.5159636 ,  0.37515833, -0.03241208,  1.08236235,\n",
       "        -0.54276944,  1.4309504 ],\n",
       "       [ 0.98784037, -1.01732708,  0.04300234, -0.03241208, -0.86893879,\n",
       "         2.27376387, -0.69883624],\n",
       "       [ 1.01490449, -0.27378011,  1.22927373, -0.03241208,  1.08236235,\n",
       "         2.27376387, -0.69883624],\n",
       "       [ 1.04196861,  0.23810901,  1.94103656, -0.03241208,  1.08236235,\n",
       "         1.33491944, -0.69883624],\n",
       "       [ 1.06903273,  3.01800321,  2.08338913,  1.35050324,  1.08236235,\n",
       "         0.396075  ,  1.4309504 ],\n",
       "       [ 1.09609685, -1.79823823, -0.43150622, -0.03241208, -0.86893879,\n",
       "         1.33491944, -0.69883624],\n",
       "       [ 1.12316097,  0.61548712,  2.51044683,  1.35050324,  1.08236235,\n",
       "         1.33491944, -0.69883624],\n",
       "       [ 1.15022509, -0.81929699,  0.6124126 , -0.03241208, -0.86893879,\n",
       "         1.33491944, -0.69883624],\n",
       "       [ 1.17728921,  0.13348933, -0.52640793, -0.03241208, -0.86893879,\n",
       "        -1.48161388,  1.4309504 ],\n",
       "       [ 1.20435333, -0.50170155, -0.05189937, -0.03241208,  1.08236235,\n",
       "         0.396075  ,  1.4309504 ],\n",
       "       [ 1.23141745, -0.81182415,  0.51751089, -0.03241208, -0.86893879,\n",
       "         0.396075  , -0.69883624],\n",
       "       [ 1.25848157, -0.70346806, -1.38052333, -1.41532739, -0.86893879,\n",
       "        -1.48161388, -0.69883624],\n",
       "       [ 1.28554569, -0.5801663 , -1.23817076, -1.41532739, -0.86893879,\n",
       "        -0.54276944, -0.69883624],\n",
       "       [ 1.31260981, -0.25509803, -0.28915365, -1.41532739, -0.86893879,\n",
       "        -0.54276944,  1.4309504 ],\n",
       "       [ 1.33967393, -0.55027497, -0.00444852, -0.03241208, -0.86893879,\n",
       "         0.396075  ,  1.4309504 ],\n",
       "       [ 1.36673805, -0.22147028,  0.04300234,  1.35050324,  1.08236235,\n",
       "        -0.54276944, -0.69883624],\n",
       "       [ 1.39380217, -1.043482  , -0.47895707, -0.03241208,  1.08236235,\n",
       "         0.396075  , -0.69883624],\n",
       "       [ 1.42086629,  2.58084243,  1.37162629,  2.73341855,  3.03366348,\n",
       "        -1.48161388,  1.4309504 ],\n",
       "       [ 1.44793041, -0.47181021, -0.38405536, -0.03241208, -0.86893879,\n",
       "        -0.54276944, -0.69883624],\n",
       "       [ 1.47499453,  0.73878888, -0.2417028 , -0.03241208, -0.86893879,\n",
       "         0.396075  ,  1.4309504 ],\n",
       "       [ 1.50205865, -0.77445998, -0.38405536, -1.41532739, -0.86893879,\n",
       "         1.33491944, -0.69883624],\n",
       "       [ 1.52912277, -0.74830506, -0.33660451, -1.41532739,  1.08236235,\n",
       "         0.396075  , -0.69883624],\n",
       "       [ 1.55618689, -0.92765308, -0.33660451, -0.03241208,  1.08236235,\n",
       "         0.396075  , -0.69883624],\n",
       "       [ 1.58325101,  0.53702236,  0.28025662, -1.41532739, -0.86893879,\n",
       "        -1.48161388,  1.4309504 ],\n",
       "       [ 1.61031513, -0.40081829, -0.47895707, -0.03241208,  1.08236235,\n",
       "         0.396075  ,  1.4309504 ],\n",
       "       [ 1.63737925,  0.65285129,  0.75476517,  1.35050324,  1.08236235,\n",
       "         0.396075  ,  1.4309504 ],\n",
       "       [ 1.66444337, -0.63247614,  0.32770747, -1.41532739, -0.86893879,\n",
       "        -0.54276944, -0.69883624],\n",
       "       [ 1.69150749,  0.72757963,  0.09045319, -0.03241208,  1.08236235,\n",
       "        -1.48161388, -0.69883624],\n",
       "       [ 1.71857161, -0.21773386,  1.18182287, -0.03241208,  1.08236235,\n",
       "         1.33491944, -0.69883624]])"
      ]
     },
     "execution_count": 26,
     "metadata": {},
     "output_type": "execute_result"
    }
   ],
   "source": [
    "import pandas as pd\n",
    "from sklearn.preprocessing import StandardScaler\n",
    "\n",
    "# assuming x is a numpy array\n",
    "x_df = pd.DataFrame(x)  # create a DataFrame from the numpy array\n",
    "sc = StandardScaler()\n",
    "x_scaled = pd.DataFrame(sc.fit_transform(x_df), columns=x_df.columns)\n",
    "x"
   ]
  },
  {
   "cell_type": "code",
   "execution_count": 27,
   "metadata": {},
   "outputs": [],
   "source": [
    "x_train, x_test, y_train, y_test = train_test_split(x, y, test_size=0.2, random_state=42)"
   ]
  },
  {
   "cell_type": "code",
   "execution_count": 28,
   "metadata": {},
   "outputs": [],
   "source": [
    "from sklearn.linear_model import LinearRegression,Lasso,Ridge\n",
    "\n"
   ]
  },
  {
   "cell_type": "code",
   "execution_count": null,
   "metadata": {},
   "outputs": [
    {
     "data": {
      "text/html": [
       "<style>#sk-container-id-1 {\n",
       "  /* Definition of color scheme common for light and dark mode */\n",
       "  --sklearn-color-text: black;\n",
       "  --sklearn-color-line: gray;\n",
       "  /* Definition of color scheme for unfitted estimators */\n",
       "  --sklearn-color-unfitted-level-0: #fff5e6;\n",
       "  --sklearn-color-unfitted-level-1: #f6e4d2;\n",
       "  --sklearn-color-unfitted-level-2: #ffe0b3;\n",
       "  --sklearn-color-unfitted-level-3: chocolate;\n",
       "  /* Definition of color scheme for fitted estimators */\n",
       "  --sklearn-color-fitted-level-0: #f0f8ff;\n",
       "  --sklearn-color-fitted-level-1: #d4ebff;\n",
       "  --sklearn-color-fitted-level-2: #b3dbfd;\n",
       "  --sklearn-color-fitted-level-3: cornflowerblue;\n",
       "\n",
       "  /* Specific color for light theme */\n",
       "  --sklearn-color-text-on-default-background: var(--sg-text-color, var(--theme-code-foreground, var(--jp-content-font-color1, black)));\n",
       "  --sklearn-color-background: var(--sg-background-color, var(--theme-background, var(--jp-layout-color0, white)));\n",
       "  --sklearn-color-border-box: var(--sg-text-color, var(--theme-code-foreground, var(--jp-content-font-color1, black)));\n",
       "  --sklearn-color-icon: #696969;\n",
       "\n",
       "  @media (prefers-color-scheme: dark) {\n",
       "    /* Redefinition of color scheme for dark theme */\n",
       "    --sklearn-color-text-on-default-background: var(--sg-text-color, var(--theme-code-foreground, var(--jp-content-font-color1, white)));\n",
       "    --sklearn-color-background: var(--sg-background-color, var(--theme-background, var(--jp-layout-color0, #111)));\n",
       "    --sklearn-color-border-box: var(--sg-text-color, var(--theme-code-foreground, var(--jp-content-font-color1, white)));\n",
       "    --sklearn-color-icon: #878787;\n",
       "  }\n",
       "}\n",
       "\n",
       "#sk-container-id-1 {\n",
       "  color: var(--sklearn-color-text);\n",
       "}\n",
       "\n",
       "#sk-container-id-1 pre {\n",
       "  padding: 0;\n",
       "}\n",
       "\n",
       "#sk-container-id-1 input.sk-hidden--visually {\n",
       "  border: 0;\n",
       "  clip: rect(1px 1px 1px 1px);\n",
       "  clip: rect(1px, 1px, 1px, 1px);\n",
       "  height: 1px;\n",
       "  margin: -1px;\n",
       "  overflow: hidden;\n",
       "  padding: 0;\n",
       "  position: absolute;\n",
       "  width: 1px;\n",
       "}\n",
       "\n",
       "#sk-container-id-1 div.sk-dashed-wrapped {\n",
       "  border: 1px dashed var(--sklearn-color-line);\n",
       "  margin: 0 0.4em 0.5em 0.4em;\n",
       "  box-sizing: border-box;\n",
       "  padding-bottom: 0.4em;\n",
       "  background-color: var(--sklearn-color-background);\n",
       "}\n",
       "\n",
       "#sk-container-id-1 div.sk-container {\n",
       "  /* jupyter's `normalize.less` sets `[hidden] { display: none; }`\n",
       "     but bootstrap.min.css set `[hidden] { display: none !important; }`\n",
       "     so we also need the `!important` here to be able to override the\n",
       "     default hidden behavior on the sphinx rendered scikit-learn.org.\n",
       "     See: https://github.com/scikit-learn/scikit-learn/issues/21755 */\n",
       "  display: inline-block !important;\n",
       "  position: relative;\n",
       "}\n",
       "\n",
       "#sk-container-id-1 div.sk-text-repr-fallback {\n",
       "  display: none;\n",
       "}\n",
       "\n",
       "div.sk-parallel-item,\n",
       "div.sk-serial,\n",
       "div.sk-item {\n",
       "  /* draw centered vertical line to link estimators */\n",
       "  background-image: linear-gradient(var(--sklearn-color-text-on-default-background), var(--sklearn-color-text-on-default-background));\n",
       "  background-size: 2px 100%;\n",
       "  background-repeat: no-repeat;\n",
       "  background-position: center center;\n",
       "}\n",
       "\n",
       "/* Parallel-specific style estimator block */\n",
       "\n",
       "#sk-container-id-1 div.sk-parallel-item::after {\n",
       "  content: \"\";\n",
       "  width: 100%;\n",
       "  border-bottom: 2px solid var(--sklearn-color-text-on-default-background);\n",
       "  flex-grow: 1;\n",
       "}\n",
       "\n",
       "#sk-container-id-1 div.sk-parallel {\n",
       "  display: flex;\n",
       "  align-items: stretch;\n",
       "  justify-content: center;\n",
       "  background-color: var(--sklearn-color-background);\n",
       "  position: relative;\n",
       "}\n",
       "\n",
       "#sk-container-id-1 div.sk-parallel-item {\n",
       "  display: flex;\n",
       "  flex-direction: column;\n",
       "}\n",
       "\n",
       "#sk-container-id-1 div.sk-parallel-item:first-child::after {\n",
       "  align-self: flex-end;\n",
       "  width: 50%;\n",
       "}\n",
       "\n",
       "#sk-container-id-1 div.sk-parallel-item:last-child::after {\n",
       "  align-self: flex-start;\n",
       "  width: 50%;\n",
       "}\n",
       "\n",
       "#sk-container-id-1 div.sk-parallel-item:only-child::after {\n",
       "  width: 0;\n",
       "}\n",
       "\n",
       "/* Serial-specific style estimator block */\n",
       "\n",
       "#sk-container-id-1 div.sk-serial {\n",
       "  display: flex;\n",
       "  flex-direction: column;\n",
       "  align-items: center;\n",
       "  background-color: var(--sklearn-color-background);\n",
       "  padding-right: 1em;\n",
       "  padding-left: 1em;\n",
       "}\n",
       "\n",
       "\n",
       "/* Toggleable style: style used for estimator/Pipeline/ColumnTransformer box that is\n",
       "clickable and can be expanded/collapsed.\n",
       "- Pipeline and ColumnTransformer use this feature and define the default style\n",
       "- Estimators will overwrite some part of the style using the `sk-estimator` class\n",
       "*/\n",
       "\n",
       "/* Pipeline and ColumnTransformer style (default) */\n",
       "\n",
       "#sk-container-id-1 div.sk-toggleable {\n",
       "  /* Default theme specific background. It is overwritten whether we have a\n",
       "  specific estimator or a Pipeline/ColumnTransformer */\n",
       "  background-color: var(--sklearn-color-background);\n",
       "}\n",
       "\n",
       "/* Toggleable label */\n",
       "#sk-container-id-1 label.sk-toggleable__label {\n",
       "  cursor: pointer;\n",
       "  display: block;\n",
       "  width: 100%;\n",
       "  margin-bottom: 0;\n",
       "  padding: 0.5em;\n",
       "  box-sizing: border-box;\n",
       "  text-align: center;\n",
       "}\n",
       "\n",
       "#sk-container-id-1 label.sk-toggleable__label-arrow:before {\n",
       "  /* Arrow on the left of the label */\n",
       "  content: \"▸\";\n",
       "  float: left;\n",
       "  margin-right: 0.25em;\n",
       "  color: var(--sklearn-color-icon);\n",
       "}\n",
       "\n",
       "#sk-container-id-1 label.sk-toggleable__label-arrow:hover:before {\n",
       "  color: var(--sklearn-color-text);\n",
       "}\n",
       "\n",
       "/* Toggleable content - dropdown */\n",
       "\n",
       "#sk-container-id-1 div.sk-toggleable__content {\n",
       "  max-height: 0;\n",
       "  max-width: 0;\n",
       "  overflow: hidden;\n",
       "  text-align: left;\n",
       "  /* unfitted */\n",
       "  background-color: var(--sklearn-color-unfitted-level-0);\n",
       "}\n",
       "\n",
       "#sk-container-id-1 div.sk-toggleable__content.fitted {\n",
       "  /* fitted */\n",
       "  background-color: var(--sklearn-color-fitted-level-0);\n",
       "}\n",
       "\n",
       "#sk-container-id-1 div.sk-toggleable__content pre {\n",
       "  margin: 0.2em;\n",
       "  border-radius: 0.25em;\n",
       "  color: var(--sklearn-color-text);\n",
       "  /* unfitted */\n",
       "  background-color: var(--sklearn-color-unfitted-level-0);\n",
       "}\n",
       "\n",
       "#sk-container-id-1 div.sk-toggleable__content.fitted pre {\n",
       "  /* unfitted */\n",
       "  background-color: var(--sklearn-color-fitted-level-0);\n",
       "}\n",
       "\n",
       "#sk-container-id-1 input.sk-toggleable__control:checked~div.sk-toggleable__content {\n",
       "  /* Expand drop-down */\n",
       "  max-height: 200px;\n",
       "  max-width: 100%;\n",
       "  overflow: auto;\n",
       "}\n",
       "\n",
       "#sk-container-id-1 input.sk-toggleable__control:checked~label.sk-toggleable__label-arrow:before {\n",
       "  content: \"▾\";\n",
       "}\n",
       "\n",
       "/* Pipeline/ColumnTransformer-specific style */\n",
       "\n",
       "#sk-container-id-1 div.sk-label input.sk-toggleable__control:checked~label.sk-toggleable__label {\n",
       "  color: var(--sklearn-color-text);\n",
       "  background-color: var(--sklearn-color-unfitted-level-2);\n",
       "}\n",
       "\n",
       "#sk-container-id-1 div.sk-label.fitted input.sk-toggleable__control:checked~label.sk-toggleable__label {\n",
       "  background-color: var(--sklearn-color-fitted-level-2);\n",
       "}\n",
       "\n",
       "/* Estimator-specific style */\n",
       "\n",
       "/* Colorize estimator box */\n",
       "#sk-container-id-1 div.sk-estimator input.sk-toggleable__control:checked~label.sk-toggleable__label {\n",
       "  /* unfitted */\n",
       "  background-color: var(--sklearn-color-unfitted-level-2);\n",
       "}\n",
       "\n",
       "#sk-container-id-1 div.sk-estimator.fitted input.sk-toggleable__control:checked~label.sk-toggleable__label {\n",
       "  /* fitted */\n",
       "  background-color: var(--sklearn-color-fitted-level-2);\n",
       "}\n",
       "\n",
       "#sk-container-id-1 div.sk-label label.sk-toggleable__label,\n",
       "#sk-container-id-1 div.sk-label label {\n",
       "  /* The background is the default theme color */\n",
       "  color: var(--sklearn-color-text-on-default-background);\n",
       "}\n",
       "\n",
       "/* On hover, darken the color of the background */\n",
       "#sk-container-id-1 div.sk-label:hover label.sk-toggleable__label {\n",
       "  color: var(--sklearn-color-text);\n",
       "  background-color: var(--sklearn-color-unfitted-level-2);\n",
       "}\n",
       "\n",
       "/* Label box, darken color on hover, fitted */\n",
       "#sk-container-id-1 div.sk-label.fitted:hover label.sk-toggleable__label.fitted {\n",
       "  color: var(--sklearn-color-text);\n",
       "  background-color: var(--sklearn-color-fitted-level-2);\n",
       "}\n",
       "\n",
       "/* Estimator label */\n",
       "\n",
       "#sk-container-id-1 div.sk-label label {\n",
       "  font-family: monospace;\n",
       "  font-weight: bold;\n",
       "  display: inline-block;\n",
       "  line-height: 1.2em;\n",
       "}\n",
       "\n",
       "#sk-container-id-1 div.sk-label-container {\n",
       "  text-align: center;\n",
       "}\n",
       "\n",
       "/* Estimator-specific */\n",
       "#sk-container-id-1 div.sk-estimator {\n",
       "  font-family: monospace;\n",
       "  border: 1px dotted var(--sklearn-color-border-box);\n",
       "  border-radius: 0.25em;\n",
       "  box-sizing: border-box;\n",
       "  margin-bottom: 0.5em;\n",
       "  /* unfitted */\n",
       "  background-color: var(--sklearn-color-unfitted-level-0);\n",
       "}\n",
       "\n",
       "#sk-container-id-1 div.sk-estimator.fitted {\n",
       "  /* fitted */\n",
       "  background-color: var(--sklearn-color-fitted-level-0);\n",
       "}\n",
       "\n",
       "/* on hover */\n",
       "#sk-container-id-1 div.sk-estimator:hover {\n",
       "  /* unfitted */\n",
       "  background-color: var(--sklearn-color-unfitted-level-2);\n",
       "}\n",
       "\n",
       "#sk-container-id-1 div.sk-estimator.fitted:hover {\n",
       "  /* fitted */\n",
       "  background-color: var(--sklearn-color-fitted-level-2);\n",
       "}\n",
       "\n",
       "/* Specification for estimator info (e.g. \"i\" and \"?\") */\n",
       "\n",
       "/* Common style for \"i\" and \"?\" */\n",
       "\n",
       ".sk-estimator-doc-link,\n",
       "a:link.sk-estimator-doc-link,\n",
       "a:visited.sk-estimator-doc-link {\n",
       "  float: right;\n",
       "  font-size: smaller;\n",
       "  line-height: 1em;\n",
       "  font-family: monospace;\n",
       "  background-color: var(--sklearn-color-background);\n",
       "  border-radius: 1em;\n",
       "  height: 1em;\n",
       "  width: 1em;\n",
       "  text-decoration: none !important;\n",
       "  margin-left: 1ex;\n",
       "  /* unfitted */\n",
       "  border: var(--sklearn-color-unfitted-level-1) 1pt solid;\n",
       "  color: var(--sklearn-color-unfitted-level-1);\n",
       "}\n",
       "\n",
       ".sk-estimator-doc-link.fitted,\n",
       "a:link.sk-estimator-doc-link.fitted,\n",
       "a:visited.sk-estimator-doc-link.fitted {\n",
       "  /* fitted */\n",
       "  border: var(--sklearn-color-fitted-level-1) 1pt solid;\n",
       "  color: var(--sklearn-color-fitted-level-1);\n",
       "}\n",
       "\n",
       "/* On hover */\n",
       "div.sk-estimator:hover .sk-estimator-doc-link:hover,\n",
       ".sk-estimator-doc-link:hover,\n",
       "div.sk-label-container:hover .sk-estimator-doc-link:hover,\n",
       ".sk-estimator-doc-link:hover {\n",
       "  /* unfitted */\n",
       "  background-color: var(--sklearn-color-unfitted-level-3);\n",
       "  color: var(--sklearn-color-background);\n",
       "  text-decoration: none;\n",
       "}\n",
       "\n",
       "div.sk-estimator.fitted:hover .sk-estimator-doc-link.fitted:hover,\n",
       ".sk-estimator-doc-link.fitted:hover,\n",
       "div.sk-label-container:hover .sk-estimator-doc-link.fitted:hover,\n",
       ".sk-estimator-doc-link.fitted:hover {\n",
       "  /* fitted */\n",
       "  background-color: var(--sklearn-color-fitted-level-3);\n",
       "  color: var(--sklearn-color-background);\n",
       "  text-decoration: none;\n",
       "}\n",
       "\n",
       "/* Span, style for the box shown on hovering the info icon */\n",
       ".sk-estimator-doc-link span {\n",
       "  display: none;\n",
       "  z-index: 9999;\n",
       "  position: relative;\n",
       "  font-weight: normal;\n",
       "  right: .2ex;\n",
       "  padding: .5ex;\n",
       "  margin: .5ex;\n",
       "  width: min-content;\n",
       "  min-width: 20ex;\n",
       "  max-width: 50ex;\n",
       "  color: var(--sklearn-color-text);\n",
       "  box-shadow: 2pt 2pt 4pt #999;\n",
       "  /* unfitted */\n",
       "  background: var(--sklearn-color-unfitted-level-0);\n",
       "  border: .5pt solid var(--sklearn-color-unfitted-level-3);\n",
       "}\n",
       "\n",
       ".sk-estimator-doc-link.fitted span {\n",
       "  /* fitted */\n",
       "  background: var(--sklearn-color-fitted-level-0);\n",
       "  border: var(--sklearn-color-fitted-level-3);\n",
       "}\n",
       "\n",
       ".sk-estimator-doc-link:hover span {\n",
       "  display: block;\n",
       "}\n",
       "\n",
       "/* \"?\"-specific style due to the `<a>` HTML tag */\n",
       "\n",
       "#sk-container-id-1 a.estimator_doc_link {\n",
       "  float: right;\n",
       "  font-size: 1rem;\n",
       "  line-height: 1em;\n",
       "  font-family: monospace;\n",
       "  background-color: var(--sklearn-color-background);\n",
       "  border-radius: 1rem;\n",
       "  height: 1rem;\n",
       "  width: 1rem;\n",
       "  text-decoration: none;\n",
       "  /* unfitted */\n",
       "  color: var(--sklearn-color-unfitted-level-1);\n",
       "  border: var(--sklearn-color-unfitted-level-1) 1pt solid;\n",
       "}\n",
       "\n",
       "#sk-container-id-1 a.estimator_doc_link.fitted {\n",
       "  /* fitted */\n",
       "  border: var(--sklearn-color-fitted-level-1) 1pt solid;\n",
       "  color: var(--sklearn-color-fitted-level-1);\n",
       "}\n",
       "\n",
       "/* On hover */\n",
       "#sk-container-id-1 a.estimator_doc_link:hover {\n",
       "  /* unfitted */\n",
       "  background-color: var(--sklearn-color-unfitted-level-3);\n",
       "  color: var(--sklearn-color-background);\n",
       "  text-decoration: none;\n",
       "}\n",
       "\n",
       "#sk-container-id-1 a.estimator_doc_link.fitted:hover {\n",
       "  /* fitted */\n",
       "  background-color: var(--sklearn-color-fitted-level-3);\n",
       "}\n",
       "</style><div id=\"sk-container-id-1\" class=\"sk-top-container\"><div class=\"sk-text-repr-fallback\"><pre>LinearRegression()</pre><b>In a Jupyter environment, please rerun this cell to show the HTML representation or trust the notebook. <br />On GitHub, the HTML representation is unable to render, please try loading this page with nbviewer.org.</b></div><div class=\"sk-container\" hidden><div class=\"sk-item\"><div class=\"sk-estimator fitted sk-toggleable\"><input class=\"sk-toggleable__control sk-hidden--visually\" id=\"sk-estimator-id-1\" type=\"checkbox\" checked><label for=\"sk-estimator-id-1\" class=\"sk-toggleable__label fitted sk-toggleable__label-arrow fitted\">&nbsp;&nbsp;LinearRegression<a class=\"sk-estimator-doc-link fitted\" rel=\"noreferrer\" target=\"_blank\" href=\"https://scikit-learn.org/1.5/modules/generated/sklearn.linear_model.LinearRegression.html\">?<span>Documentation for LinearRegression</span></a><span class=\"sk-estimator-doc-link fitted\">i<span>Fitted</span></span></label><div class=\"sk-toggleable__content fitted\"><pre>LinearRegression()</pre></div> </div></div></div></div>"
      ],
      "text/plain": [
       "LinearRegression()"
      ]
     },
     "execution_count": 29,
     "metadata": {},
     "output_type": "execute_result"
    }
   ],
   "source": [
    "#linear regression\n",
    "lr=LinearRegression()\n",
    "\n",
    "lr.fit(x_train,y_train)"
   ]
  },
  {
   "cell_type": "code",
   "execution_count": 31,
   "metadata": {},
   "outputs": [
    {
     "data": {
      "text/plain": [
       "100.0"
      ]
     },
     "execution_count": 31,
     "metadata": {},
     "output_type": "execute_result"
    }
   ],
   "source": [
    "lr.score(x_test,y_test)*100"
   ]
  },
  {
   "cell_type": "code",
   "execution_count": 51,
   "metadata": {},
   "outputs": [],
   "source": [
    "from sklearn.metrics import mean_squared_error\n",
    "from sklearn.metrics import mean_absolute_error"
   ]
  },
  {
   "cell_type": "code",
   "execution_count": null,
   "metadata": {},
   "outputs": [
    {
     "data": {
      "text/plain": [
       "5.994209555555745e-31"
      ]
     },
     "execution_count": 49,
     "metadata": {},
     "output_type": "execute_result"
    }
   ],
   "source": [
    "mean_squared_error(y_test, lr.predict(x_test))\n"
   ]
  },
  {
   "cell_type": "code",
   "execution_count": 52,
   "metadata": {},
   "outputs": [
    {
     "data": {
      "text/plain": [
       "5.731593084761062e-16"
      ]
     },
     "execution_count": 52,
     "metadata": {},
     "output_type": "execute_result"
    }
   ],
   "source": [
    "mean_absolute_error(y_test, lr.predict(x_test))"
   ]
  },
  {
   "cell_type": "code",
   "execution_count": 53,
   "metadata": {},
   "outputs": [
    {
     "data": {
      "text/plain": [
       "7.742228074369642e-16"
      ]
     },
     "execution_count": 53,
     "metadata": {},
     "output_type": "execute_result"
    }
   ],
   "source": [
    "#rmsr root mean square error\n",
    "\n",
    "np.sqrt(mean_squared_error(y_test, lr.predict(x_test)))"
   ]
  },
  {
   "cell_type": "code",
   "execution_count": 38,
   "metadata": {},
   "outputs": [],
   "source": [
    "x=df.iloc[:,:-1]"
   ]
  },
  {
   "cell_type": "code",
   "execution_count": 39,
   "metadata": {},
   "outputs": [
    {
     "data": {
      "text/plain": [
       "array([-9.52298154e-17,  1.00000000e+00,  1.11022302e-16,  2.22044605e-16,\n",
       "        1.66533454e-16, -4.99600361e-16,  0.00000000e+00])"
      ]
     },
     "execution_count": 39,
     "metadata": {},
     "output_type": "execute_result"
    }
   ],
   "source": [
    "lr.coef_"
   ]
  },
  {
   "cell_type": "code",
   "execution_count": 40,
   "metadata": {},
   "outputs": [
    {
     "data": {
      "image/png": "[encoded data removed]",
      "text/plain": [
       "<Figure size 640x480 with 1 Axes>"
      ]
     },
     "metadata": {},
     "output_type": "display_data"
    }
   ],
   "source": [
    "plt.bar(x.columns,lr.coef_)\n",
    "plt.title(\"LinearRegression\")\n",
    "plt.xlabel(\"columns\")\n",
    "plt.ylabel(\"coef\")\n",
    "plt.show()"
   ]
  },
  {
   "cell_type": "code",
   "execution_count": 41,
   "metadata": {},
   "outputs": [
    {
     "data": {
      "text/plain": [
       "76.98646740369755"
      ]
     },
     "execution_count": 41,
     "metadata": {},
     "output_type": "execute_result"
    }
   ],
   "source": [
    "#lasso regression (for feature selection)\n",
    "la=Lasso(alpha=0.5)\n",
    "la.fit(x_train,y_train)\n",
    "la.score(x_test,y_test)*100"
   ]
  },
  {
   "cell_type": "code",
   "execution_count": 54,
   "metadata": {},
   "outputs": [
    {
     "name": "stdout",
     "output_type": "stream",
     "text": [
      "0.18936655026551688\n",
      "0.35622132898449554\n"
     ]
    },
    {
     "data": {
      "text/plain": [
       "0.43516267103867823"
      ]
     },
     "execution_count": 54,
     "metadata": {},
     "output_type": "execute_result"
    }
   ],
   "source": [
    "print(mean_squared_error(y_test, la.predict(x_test)))\n",
    "\n",
    "print(mean_absolute_error(y_test, la.predict(x_test)))\n",
    "\n",
    "np.sqrt(mean_squared_error(y_test, la.predict(x_test)))"
   ]
  },
  {
   "cell_type": "code",
   "execution_count": 42,
   "metadata": {},
   "outputs": [],
   "source": [
    "x=df.iloc[:,:-1]"
   ]
  },
  {
   "cell_type": "code",
   "execution_count": 43,
   "metadata": {},
   "outputs": [
    {
     "data": {
      "text/plain": [
       "array([ 0.        ,  0.52128083,  0.        ,  0.        ,  0.        ,\n",
       "       -0.        ,  0.        ])"
      ]
     },
     "execution_count": 43,
     "metadata": {},
     "output_type": "execute_result"
    }
   ],
   "source": [
    "la.coef_"
   ]
  },
  {
   "cell_type": "code",
   "execution_count": 55,
   "metadata": {},
   "outputs": [
    {
     "data": {
      "image/png": "[encoded data removed]",
      "text/plain": [
       "<Figure size 640x480 with 1 Axes>"
      ]
     },
     "metadata": {},
     "output_type": "display_data"
    }
   ],
   "source": [
    "plt.bar(x.columns,la.coef_)\n",
    "plt.title(\"lassoRegression\")\n",
    "plt.xlabel(\"columns\")\n",
    "plt.ylabel(\"coef\")\n",
    "plt.show()"
   ]
  },
  {
   "cell_type": "code",
   "execution_count": 45,
   "metadata": {},
   "outputs": [
    {
     "data": {
      "text/plain": [
       "99.98509980877338"
      ]
     },
     "execution_count": 45,
     "metadata": {},
     "output_type": "execute_result"
    }
   ],
   "source": [
    "#ridge regression\n",
    "ri=Ridge(alpha=0.5)\n",
    "ri.fit(x_train,y_train)\n",
    "ri.score(x_test,y_test)*100"
   ]
  },
  {
   "cell_type": "code",
   "execution_count": 57,
   "metadata": {},
   "outputs": [
    {
     "name": "stdout",
     "output_type": "stream",
     "text": [
      "0.0001226060275219863\n",
      "0.009234903635591844\n"
     ]
    },
    {
     "data": {
      "text/plain": [
       "0.01107276060980216"
      ]
     },
     "execution_count": 57,
     "metadata": {},
     "output_type": "execute_result"
    }
   ],
   "source": [
    "print(mean_squared_error(y_test, ri.predict(x_test)))\n",
    "\n",
    "print(mean_absolute_error(y_test, ri.predict(x_test)))\n",
    "\n",
    "np.sqrt(mean_squared_error(y_test, ri.predict(x_test)))"
   ]
  },
  {
   "cell_type": "code",
   "execution_count": 56,
   "metadata": {},
   "outputs": [
    {
     "data": {
      "image/png": "[encoded data removed]",
      "text/plain": [
       "<Figure size 640x480 with 1 Axes>"
      ]
     },
     "metadata": {},
     "output_type": "display_data"
    }
   ],
   "source": [
    "plt.bar(x.columns,ri.coef_)\n",
    "plt.title(\"ridgeRegression\")\n",
    "plt.xlabel(\"columns\")\n",
    "plt.ylabel(\"coef\")\n",
    "plt.show()"
   ]
  },
  {
   "cell_type": "code",
   "execution_count": 59,
   "metadata": {},
   "outputs": [
    {
     "name": "stdout",
     "output_type": "stream",
     "text": [
      "[-9.52298154e-17  1.00000000e+00  1.11022302e-16  2.22044605e-16\n",
      "  1.66533454e-16 -4.99600361e-16  0.00000000e+00]\n",
      "[ 0.          0.52128083  0.          0.          0.         -0.\n",
      "  0.        ]\n",
      "[-7.87062289e-04  9.77811495e-01  1.17938452e-02  4.58496380e-03\n",
      "  3.76758182e-03 -1.10328234e-02  6.73974158e-03]\n"
     ]
    }
   ],
   "source": [
    "print(lr.coef_)\n",
    "print(la.coef_)\n",
    "print(ri.coef_)"
   ]
  },
  {
   "cell_type": "code",
   "execution_count": 61,
   "metadata": {},
   "outputs": [
    {
     "data": {
      "text/plain": [
       "Index(['Home', 'Price', 'SqFt', 'Bedrooms', 'Bathrooms', 'Offers', 'Brick'], dtype='object')"
      ]
     },
     "execution_count": 61,
     "metadata": {},
     "output_type": "execute_result"
    }
   ],
   "source": [
    "x.columns"
   ]
  },
  {
   "cell_type": "code",
   "execution_count": 66,
   "metadata": {},
   "outputs": [
    {
     "data": {
      "text/html": [
       "<div>\n",
       "<style scoped>\n",
       "    .dataframe tbody tr th:only-of-type {\n",
       "        vertical-align: middle;\n",
       "    }\n",
       "\n",
       "    .dataframe tbody tr th {\n",
       "        vertical-align: top;\n",
       "    }\n",
       "\n",
       "    .dataframe thead th {\n",
       "        text-align: right;\n",
       "    }\n",
       "</style>\n",
       "<table border=\"1\" class=\"dataframe\">\n",
       "  <thead>\n",
       "    <tr style=\"text-align: right;\">\n",
       "      <th></th>\n",
       "      <th>0</th>\n",
       "    </tr>\n",
       "  </thead>\n",
       "  <tbody>\n",
       "    <tr>\n",
       "      <th>Home</th>\n",
       "      <td>-9.522982e-17</td>\n",
       "    </tr>\n",
       "    <tr>\n",
       "      <th>Price</th>\n",
       "      <td>1.000000e+00</td>\n",
       "    </tr>\n",
       "    <tr>\n",
       "      <th>SqFt</th>\n",
       "      <td>1.110223e-16</td>\n",
       "    </tr>\n",
       "    <tr>\n",
       "      <th>Bedrooms</th>\n",
       "      <td>2.220446e-16</td>\n",
       "    </tr>\n",
       "    <tr>\n",
       "      <th>Bathrooms</th>\n",
       "      <td>1.665335e-16</td>\n",
       "    </tr>\n",
       "    <tr>\n",
       "      <th>Offers</th>\n",
       "      <td>-4.996004e-16</td>\n",
       "    </tr>\n",
       "    <tr>\n",
       "      <th>Brick</th>\n",
       "      <td>0.000000e+00</td>\n",
       "    </tr>\n",
       "  </tbody>\n",
       "</table>\n",
       "</div>"
      ],
      "text/plain": [
       "                      0\n",
       "Home      -9.522982e-17\n",
       "Price      1.000000e+00\n",
       "SqFt       1.110223e-16\n",
       "Bedrooms   2.220446e-16\n",
       "Bathrooms  1.665335e-16\n",
       "Offers    -4.996004e-16\n",
       "Brick      0.000000e+00"
      ]
     },
     "execution_count": 66,
     "metadata": {},
     "output_type": "execute_result"
    }
   ],
   "source": [
    "#all three\n",
    "\n",
    "df2=pd.DataFrame(lr.coef_,index=x.columns)\n",
    "df2"
   ]
  },
  {
   "cell_type": "code",
   "execution_count": 70,
   "metadata": {},
   "outputs": [
    {
     "data": {
      "text/html": [
       "<div>\n",
       "<style scoped>\n",
       "    .dataframe tbody tr th:only-of-type {\n",
       "        vertical-align: middle;\n",
       "    }\n",
       "\n",
       "    .dataframe tbody tr th {\n",
       "        vertical-align: top;\n",
       "    }\n",
       "\n",
       "    .dataframe thead th {\n",
       "        text-align: right;\n",
       "    }\n",
       "</style>\n",
       "<table border=\"1\" class=\"dataframe\">\n",
       "  <thead>\n",
       "    <tr style=\"text-align: right;\">\n",
       "      <th></th>\n",
       "      <th>0</th>\n",
       "    </tr>\n",
       "  </thead>\n",
       "  <tbody>\n",
       "    <tr>\n",
       "      <th>Home</th>\n",
       "      <td>0.000000</td>\n",
       "    </tr>\n",
       "    <tr>\n",
       "      <th>Price</th>\n",
       "      <td>0.521281</td>\n",
       "    </tr>\n",
       "    <tr>\n",
       "      <th>SqFt</th>\n",
       "      <td>0.000000</td>\n",
       "    </tr>\n",
       "    <tr>\n",
       "      <th>Bedrooms</th>\n",
       "      <td>0.000000</td>\n",
       "    </tr>\n",
       "    <tr>\n",
       "      <th>Bathrooms</th>\n",
       "      <td>0.000000</td>\n",
       "    </tr>\n",
       "    <tr>\n",
       "      <th>Offers</th>\n",
       "      <td>-0.000000</td>\n",
       "    </tr>\n",
       "    <tr>\n",
       "      <th>Brick</th>\n",
       "      <td>0.000000</td>\n",
       "    </tr>\n",
       "  </tbody>\n",
       "</table>\n",
       "</div>"
      ],
      "text/plain": [
       "                  0\n",
       "Home       0.000000\n",
       "Price      0.521281\n",
       "SqFt       0.000000\n",
       "Bedrooms   0.000000\n",
       "Bathrooms  0.000000\n",
       "Offers    -0.000000\n",
       "Brick      0.000000"
      ]
     },
     "execution_count": 70,
     "metadata": {},
     "output_type": "execute_result"
    }
   ],
   "source": [
    "df3=pd.DataFrame(la.coef_,index=x.columns)  \n",
    "df3"
   ]
  },
  {
   "cell_type": "code",
   "execution_count": 71,
   "metadata": {},
   "outputs": [
    {
     "data": {
      "text/html": [
       "<div>\n",
       "<style scoped>\n",
       "    .dataframe tbody tr th:only-of-type {\n",
       "        vertical-align: middle;\n",
       "    }\n",
       "\n",
       "    .dataframe tbody tr th {\n",
       "        vertical-align: top;\n",
       "    }\n",
       "\n",
       "    .dataframe thead th {\n",
       "        text-align: right;\n",
       "    }\n",
       "</style>\n",
       "<table border=\"1\" class=\"dataframe\">\n",
       "  <thead>\n",
       "    <tr style=\"text-align: right;\">\n",
       "      <th></th>\n",
       "      <th>0</th>\n",
       "    </tr>\n",
       "  </thead>\n",
       "  <tbody>\n",
       "    <tr>\n",
       "      <th>Home</th>\n",
       "      <td>-0.000787</td>\n",
       "    </tr>\n",
       "    <tr>\n",
       "      <th>Price</th>\n",
       "      <td>0.977811</td>\n",
       "    </tr>\n",
       "    <tr>\n",
       "      <th>SqFt</th>\n",
       "      <td>0.011794</td>\n",
       "    </tr>\n",
       "    <tr>\n",
       "      <th>Bedrooms</th>\n",
       "      <td>0.004585</td>\n",
       "    </tr>\n",
       "    <tr>\n",
       "      <th>Bathrooms</th>\n",
       "      <td>0.003768</td>\n",
       "    </tr>\n",
       "    <tr>\n",
       "      <th>Offers</th>\n",
       "      <td>-0.011033</td>\n",
       "    </tr>\n",
       "    <tr>\n",
       "      <th>Brick</th>\n",
       "      <td>0.006740</td>\n",
       "    </tr>\n",
       "  </tbody>\n",
       "</table>\n",
       "</div>"
      ],
      "text/plain": [
       "                  0\n",
       "Home      -0.000787\n",
       "Price      0.977811\n",
       "SqFt       0.011794\n",
       "Bedrooms   0.004585\n",
       "Bathrooms  0.003768\n",
       "Offers    -0.011033\n",
       "Brick      0.006740"
      ]
     },
     "execution_count": 71,
     "metadata": {},
     "output_type": "execute_result"
    }
   ],
   "source": [
    "df4=pd.DataFrame(ri.coef_,index=x.columns)\n",
    "df4"
   ]
  },
  {
   "cell_type": "code",
   "execution_count": 74,
   "metadata": {},
   "outputs": [
    {
     "data": {
      "text/html": [
       "<div>\n",
       "<style scoped>\n",
       "    .dataframe tbody tr th:only-of-type {\n",
       "        vertical-align: middle;\n",
       "    }\n",
       "\n",
       "    .dataframe tbody tr th {\n",
       "        vertical-align: top;\n",
       "    }\n",
       "\n",
       "    .dataframe thead th {\n",
       "        text-align: right;\n",
       "    }\n",
       "</style>\n",
       "<table border=\"1\" class=\"dataframe\">\n",
       "  <thead>\n",
       "    <tr style=\"text-align: right;\">\n",
       "      <th></th>\n",
       "      <th>0</th>\n",
       "      <th>0</th>\n",
       "      <th>0</th>\n",
       "    </tr>\n",
       "  </thead>\n",
       "  <tbody>\n",
       "    <tr>\n",
       "      <th>Home</th>\n",
       "      <td>-9.522982e-17</td>\n",
       "      <td>0.000000</td>\n",
       "      <td>-0.000787</td>\n",
       "    </tr>\n",
       "    <tr>\n",
       "      <th>Price</th>\n",
       "      <td>1.000000e+00</td>\n",
       "      <td>0.521281</td>\n",
       "      <td>0.977811</td>\n",
       "    </tr>\n",
       "    <tr>\n",
       "      <th>SqFt</th>\n",
       "      <td>1.110223e-16</td>\n",
       "      <td>0.000000</td>\n",
       "      <td>0.011794</td>\n",
       "    </tr>\n",
       "    <tr>\n",
       "      <th>Bedrooms</th>\n",
       "      <td>2.220446e-16</td>\n",
       "      <td>0.000000</td>\n",
       "      <td>0.004585</td>\n",
       "    </tr>\n",
       "    <tr>\n",
       "      <th>Bathrooms</th>\n",
       "      <td>1.665335e-16</td>\n",
       "      <td>0.000000</td>\n",
       "      <td>0.003768</td>\n",
       "    </tr>\n",
       "    <tr>\n",
       "      <th>Offers</th>\n",
       "      <td>-4.996004e-16</td>\n",
       "      <td>-0.000000</td>\n",
       "      <td>-0.011033</td>\n",
       "    </tr>\n",
       "    <tr>\n",
       "      <th>Brick</th>\n",
       "      <td>0.000000e+00</td>\n",
       "      <td>0.000000</td>\n",
       "      <td>0.006740</td>\n",
       "    </tr>\n",
       "  </tbody>\n",
       "</table>\n",
       "</div>"
      ],
      "text/plain": [
       "                      0         0         0\n",
       "Home      -9.522982e-17  0.000000 -0.000787\n",
       "Price      1.000000e+00  0.521281  0.977811\n",
       "SqFt       1.110223e-16  0.000000  0.011794\n",
       "Bedrooms   2.220446e-16  0.000000  0.004585\n",
       "Bathrooms  1.665335e-16  0.000000  0.003768\n",
       "Offers    -4.996004e-16 -0.000000 -0.011033\n",
       "Brick      0.000000e+00  0.000000  0.006740"
      ]
     },
     "execution_count": 74,
     "metadata": {},
     "output_type": "execute_result"
    }
   ],
   "source": [
    "#all three in one table with col name\n",
    "df5=pd.concat([df2,df3,df4],axis=1)\n",
    "df5"
   ]
  },
  {
   "cell_type": "code",
   "execution_count": null,
   "metadata": {},
   "outputs": [],
   "source": []
  }
 ],
 "metadata": {
  "kernelspec": {
   "display_name": "Python 3",
   "language": "python",
   "name": "python3"
  },
  "language_info": {
   "codemirror_mode": {
    "name": "ipython",
    "version": 3
   },
   "file_extension": ".py",
   "mimetype": "text/x-python",
   "name": "python",
   "nbconvert_exporter": "python",
   "pygments_lexer": "ipython3",
   "version": "3.12.4"
  }
 },
 "nbformat": 4,
 "nbformat_minor": 2
}
